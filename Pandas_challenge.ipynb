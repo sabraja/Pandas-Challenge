{
 "cells": [
  {
   "cell_type": "markdown",
   "metadata": {},
   "source": [
    "### Note\n",
    "* Instructions have been included for each segment. You do not have to follow them exactly, but they are included to help you think through the steps."
   ]
  },
  {
   "cell_type": "code",
   "execution_count": 1,
   "metadata": {},
   "outputs": [],
   "source": [
    "# Dependencies and Setup\n",
    "import pandas as pd\n",
    "import numpy as np\n",
    "\n",
    "# File to Load (Remember to Change These)\n",
    "file_to_load = \"Resources/purchase_data.csv\"\n",
    "\n",
    "# Read Purchasing File and store into Pandas data frame\n",
    "purchase_data = pd.read_csv(file_to_load)"
   ]
  },
  {
   "cell_type": "markdown",
   "metadata": {},
   "source": [
    "## Player Count"
   ]
  },
  {
   "cell_type": "markdown",
   "metadata": {},
   "source": [
    "* Display the total number of players\n"
   ]
  },
  {
   "cell_type": "code",
   "execution_count": 2,
   "metadata": {},
   "outputs": [
    {
     "data": {
      "text/html": [
       "<div>\n",
       "<style scoped>\n",
       "    .dataframe tbody tr th:only-of-type {\n",
       "        vertical-align: middle;\n",
       "    }\n",
       "\n",
       "    .dataframe tbody tr th {\n",
       "        vertical-align: top;\n",
       "    }\n",
       "\n",
       "    .dataframe thead th {\n",
       "        text-align: right;\n",
       "    }\n",
       "</style>\n",
       "<table border=\"1\" class=\"dataframe\">\n",
       "  <thead>\n",
       "    <tr style=\"text-align: right;\">\n",
       "      <th></th>\n",
       "      <th>Total_Players</th>\n",
       "    </tr>\n",
       "  </thead>\n",
       "  <tbody>\n",
       "    <tr>\n",
       "      <th>0</th>\n",
       "      <td>576</td>\n",
       "    </tr>\n",
       "  </tbody>\n",
       "</table>\n",
       "</div>"
      ],
      "text/plain": [
       "   Total_Players\n",
       "0            576"
      ]
     },
     "execution_count": 2,
     "metadata": {},
     "output_type": "execute_result"
    }
   ],
   "source": [
    "Total_Players=len(purchase_data[\"SN\"].unique())\n",
    "\n",
    "summary_df = pd.DataFrame()\n",
    "summary_df[\"Total_Players\"] = [Total_Players]\n",
    "summary_df"
   ]
  },
  {
   "cell_type": "markdown",
   "metadata": {},
   "source": [
    "## Purchasing Analysis (Total)"
   ]
  },
  {
   "cell_type": "markdown",
   "metadata": {},
   "source": [
    "* Run basic calculations to obtain number of unique items, average price, etc.\n",
    "\n",
    "\n",
    "* Create a summary data frame to hold the results\n",
    "\n",
    "\n",
    "* Optional: give the displayed data cleaner formatting\n",
    "\n",
    "\n",
    "* Display the summary data frame\n"
   ]
  },
  {
   "cell_type": "code",
   "execution_count": 3,
   "metadata": {
    "scrolled": true
   },
   "outputs": [],
   "source": [
    "#Purchasing total \n",
    "#Number of Unique Items(Len)\n",
    "#Average price(Mean)\n",
    "#Total Number of Purchases (Count)\n",
    "#Total Revenue (Sum)\n",
    "\n",
    "Unique_Items=len(purchase_data[\"Item ID\"].unique())\n",
    "\n",
    "Average_Price=purchase_data[\"Price\"].mean()\n",
    "\n",
    "Number_of_purchases=purchase_data[\"Purchase ID\"].count()\n",
    "\n",
    "Total_Revenue=sum(purchase_data[\"Price\"])"
   ]
  },
  {
   "cell_type": "code",
   "execution_count": 4,
   "metadata": {},
   "outputs": [
    {
     "data": {
      "text/html": [
       "<div>\n",
       "<style scoped>\n",
       "    .dataframe tbody tr th:only-of-type {\n",
       "        vertical-align: middle;\n",
       "    }\n",
       "\n",
       "    .dataframe tbody tr th {\n",
       "        vertical-align: top;\n",
       "    }\n",
       "\n",
       "    .dataframe thead th {\n",
       "        text-align: right;\n",
       "    }\n",
       "</style>\n",
       "<table border=\"1\" class=\"dataframe\">\n",
       "  <thead>\n",
       "    <tr style=\"text-align: right;\">\n",
       "      <th></th>\n",
       "      <th>Unique_Items</th>\n",
       "      <th>Average_Price</th>\n",
       "      <th>Number_of_purchases</th>\n",
       "      <th>Total_Revenue</th>\n",
       "    </tr>\n",
       "  </thead>\n",
       "  <tbody>\n",
       "    <tr>\n",
       "      <th>0</th>\n",
       "      <td>179</td>\n",
       "      <td>3.050987</td>\n",
       "      <td>780</td>\n",
       "      <td>2379.77</td>\n",
       "    </tr>\n",
       "  </tbody>\n",
       "</table>\n",
       "</div>"
      ],
      "text/plain": [
       "   Unique_Items  Average_Price  Number_of_purchases  Total_Revenue\n",
       "0           179       3.050987                  780        2379.77"
      ]
     },
     "execution_count": 4,
     "metadata": {},
     "output_type": "execute_result"
    }
   ],
   "source": [
    "#Display Data Frame with cleaner format \n",
    "summarytable_df=pd.DataFrame()\n",
    "\n",
    "summarytable_df[\"Unique_Items\"]=[Unique_Items]\n",
    "summarytable_df[\"Average_Price\"]=[Average_Price]\n",
    "summarytable_df[\"Number_of_purchases\"]=[Number_of_purchases]\n",
    "summarytable_df[\"Total_Revenue\"]=[Total_Revenue]\n",
    "\n",
    "summarytable_df"
   ]
  },
  {
   "cell_type": "markdown",
   "metadata": {},
   "source": [
    "## Gender Demographics"
   ]
  },
  {
   "cell_type": "markdown",
   "metadata": {},
   "source": [
    "* Percentage and Count of Male Players\n",
    "\n",
    "\n",
    "* Percentage and Count of Female Players\n",
    "\n",
    "\n",
    "* Percentage and Count of Other / Non-Disclosed\n",
    "\n",
    "\n"
   ]
  },
  {
   "cell_type": "code",
   "execution_count": 5,
   "metadata": {},
   "outputs": [
    {
     "data": {
      "text/plain": [
       "Male                     652\n",
       "Female                   113\n",
       "Other / Non-Disclosed     15\n",
       "Name: Gender, dtype: int64"
      ]
     },
     "execution_count": 5,
     "metadata": {},
     "output_type": "execute_result"
    }
   ],
   "source": [
    "#Count all Genders of Players (Count)\n",
    "count_players_gender= purchase_data[\"Gender\"].value_counts()\n",
    "count_players_gender"
   ]
  },
  {
   "cell_type": "code",
   "execution_count": 6,
   "metadata": {},
   "outputs": [
    {
     "data": {
      "text/plain": [
       "780"
      ]
     },
     "execution_count": 6,
     "metadata": {},
     "output_type": "execute_result"
    }
   ],
   "source": [
    "#Total count of players(Len)\n",
    "Count_total_players=len(purchase_data[\"Gender\"])\n",
    "Count_total_players"
   ]
  },
  {
   "cell_type": "code",
   "execution_count": 7,
   "metadata": {},
   "outputs": [
    {
     "data": {
      "text/plain": [
       "652"
      ]
     },
     "execution_count": 7,
     "metadata": {},
     "output_type": "execute_result"
    }
   ],
   "source": [
    "#Count Male Players(Len)\n",
    "Count_Male_players=len(purchase_data[purchase_data[\"Gender\"]==\"Male\"])\n",
    "Count_Male_players"
   ]
  },
  {
   "cell_type": "code",
   "execution_count": 8,
   "metadata": {},
   "outputs": [
    {
     "data": {
      "text/plain": [
       "84"
      ]
     },
     "execution_count": 8,
     "metadata": {},
     "output_type": "execute_result"
    }
   ],
   "source": [
    "#Percentage of Male Players \n",
    "Male_Player_pct=round((Count_Male_players)/(Count_total_players)*100)\n",
    "Male_Player_pct"
   ]
  },
  {
   "cell_type": "code",
   "execution_count": 9,
   "metadata": {},
   "outputs": [
    {
     "data": {
      "text/plain": [
       "113"
      ]
     },
     "execution_count": 9,
     "metadata": {},
     "output_type": "execute_result"
    }
   ],
   "source": [
    "#Count Female Players(Len)\n",
    "Count_Female_players=len(purchase_data[purchase_data[\"Gender\"]==\"Female\"])\n",
    "Count_Female_players"
   ]
  },
  {
   "cell_type": "code",
   "execution_count": 10,
   "metadata": {},
   "outputs": [
    {
     "data": {
      "text/plain": [
       "14"
      ]
     },
     "execution_count": 10,
     "metadata": {},
     "output_type": "execute_result"
    }
   ],
   "source": [
    "#Percentage of Female Players \n",
    "Female_Player_pct=round((Count_Female_players)/(Count_total_players)*100)\n",
    "Female_Player_pct"
   ]
  },
  {
   "cell_type": "code",
   "execution_count": 11,
   "metadata": {},
   "outputs": [
    {
     "data": {
      "text/plain": [
       "15"
      ]
     },
     "execution_count": 11,
     "metadata": {},
     "output_type": "execute_result"
    }
   ],
   "source": [
    "#Count Other/Non-Disclosed Players(Len)\n",
    "Count_other_players =  len(purchase_data[purchase_data['Gender']== \"Other / Non-Disclosed\"])\n",
    "Count_other_players"
   ]
  },
  {
   "cell_type": "code",
   "execution_count": 12,
   "metadata": {},
   "outputs": [
    {
     "data": {
      "text/plain": [
       "2"
      ]
     },
     "execution_count": 12,
     "metadata": {},
     "output_type": "execute_result"
    }
   ],
   "source": [
    "#Percentage of Other/ Non-Disclosed Players (Round- will take care of any decimels) that is why i added numpy to dependencies\n",
    "Other_Player_pct=round((Count_other_players)/(Count_total_players)*100)\n",
    "Other_Player_pct"
   ]
  },
  {
   "cell_type": "code",
   "execution_count": 13,
   "metadata": {},
   "outputs": [
    {
     "data": {
      "text/html": [
       "<div>\n",
       "<style scoped>\n",
       "    .dataframe tbody tr th:only-of-type {\n",
       "        vertical-align: middle;\n",
       "    }\n",
       "\n",
       "    .dataframe tbody tr th {\n",
       "        vertical-align: top;\n",
       "    }\n",
       "\n",
       "    .dataframe thead th {\n",
       "        text-align: right;\n",
       "    }\n",
       "</style>\n",
       "<table border=\"1\" class=\"dataframe\">\n",
       "  <thead>\n",
       "    <tr style=\"text-align: right;\">\n",
       "      <th></th>\n",
       "      <th>Count_Male_players</th>\n",
       "      <th>Male_Player_pct</th>\n",
       "      <th>Count_Female_players</th>\n",
       "      <th>Female_Player_pct</th>\n",
       "      <th>Count_other_players</th>\n",
       "      <th>Other_Player_pct</th>\n",
       "      <th>Count_total_players</th>\n",
       "    </tr>\n",
       "  </thead>\n",
       "  <tbody>\n",
       "    <tr>\n",
       "      <th>0</th>\n",
       "      <td>652</td>\n",
       "      <td>84</td>\n",
       "      <td>113</td>\n",
       "      <td>14</td>\n",
       "      <td>15</td>\n",
       "      <td>2</td>\n",
       "      <td>780</td>\n",
       "    </tr>\n",
       "  </tbody>\n",
       "</table>\n",
       "</div>"
      ],
      "text/plain": [
       "   Count_Male_players  Male_Player_pct  Count_Female_players  \\\n",
       "0                 652               84                   113   \n",
       "\n",
       "   Female_Player_pct  Count_other_players  Other_Player_pct  \\\n",
       "0                 14                   15                 2   \n",
       "\n",
       "   Count_total_players  \n",
       "0                  780  "
      ]
     },
     "execution_count": 13,
     "metadata": {},
     "output_type": "execute_result"
    }
   ],
   "source": [
    "#Summary of Gender Demographics \n",
    "\n",
    "player_gender_summary_df=pd.DataFrame()\n",
    "\n",
    "player_gender_summary_df[\"Count_Male_players\"]=[Count_Male_players]\n",
    "player_gender_summary_df[\"Male_Player_pct\"]=[Male_Player_pct]\n",
    "player_gender_summary_df[\"Count_Female_players\"]=[Count_Female_players]\n",
    "player_gender_summary_df[\"Female_Player_pct\"]=[Female_Player_pct]\n",
    "player_gender_summary_df[\"Count_other_players\"]= [Count_other_players]\n",
    "player_gender_summary_df[\"Other_Player_pct\"]= [Other_Player_pct]\n",
    "player_gender_summary_df[\"Count_total_players\"]=[Count_total_players]\n",
    "\n",
    "player_gender_summary_df"
   ]
  },
  {
   "cell_type": "markdown",
   "metadata": {},
   "source": [
    "\n",
    "## Purchasing Analysis (Gender)"
   ]
  },
  {
   "cell_type": "markdown",
   "metadata": {},
   "source": [
    "* Run basic calculations to obtain purchase count, avg. purchase price, avg. purchase total per person etc. by gender\n",
    "\n",
    "\n",
    "\n",
    "\n",
    "* Create a summary data frame to hold the results\n",
    "\n",
    "\n",
    "* Optional: give the displayed data cleaner formatting\n",
    "\n",
    "\n",
    "* Display the summary data frame"
   ]
  },
  {
   "cell_type": "code",
   "execution_count": 22,
   "metadata": {},
   "outputs": [
    {
     "name": "stdout",
     "output_type": "stream",
     "text": [
      "Male_purchase_count 652\n",
      "Female_purchase_count 113\n",
      "Other_purchase_count 15\n"
     ]
    }
   ],
   "source": [
    "#Run basic calculations to obtain purchase count, avg. purchase price, avg. purchase total per person etc. by gender\n",
    "\n",
    "#Purchase Count by Gender (Len)\n",
    "\n",
    "Male_purchase_count=len(purchase_data[purchase_data[\"Gender\"]==\"Male\"])\n",
    "Female_purchase_count=len(purchase_data[purchase_data[\"Gender\"]==\"Female\"])\n",
    "Other_purchase_count=len(purchase_data[purchase_data[\"Gender\"]==\"Other / Non-Disclosed\"])\n",
    "\n",
    "\n",
    "print(\"Male_purchase_count\", Male_purchase_count)\n",
    "print(\"Female_purchase_count\", Female_purchase_count)\n",
    "print(\"Other_purchase_count\", Other_purchase_count)"
   ]
  },
  {
   "cell_type": "code",
   "execution_count": 23,
   "metadata": {},
   "outputs": [],
   "source": [
    "#Average purchase price by Male \n",
    "\n",
    "#Create a column to show calculations \n",
    "columns=[\"Purchase ID\",\"SN\",\"Age\",\"Gender\",\"Item ID\",\"Item Name\",\"Price\"]\n",
    "\n",
    "#Create a new dataframe with \"Male PLayers\" with the columns \n",
    " \n",
    "Male_df=purchase_data.loc[purchase_data[\"Gender\"]==\"Male\", columns]\n",
    "Male_purchase_count=len(purchase_data[purchase_data[\"Gender\"]==\"Male\"])\n",
    "Male_total_purchase_price = sum(Male_df[\"Price\"])\n",
    "Male_avg_purchase_price=Male_total_purchase_price/Male_purchase_count\n"
   ]
  },
  {
   "cell_type": "code",
   "execution_count": 24,
   "metadata": {},
   "outputs": [
    {
     "data": {
      "text/html": [
       "<div>\n",
       "<style scoped>\n",
       "    .dataframe tbody tr th:only-of-type {\n",
       "        vertical-align: middle;\n",
       "    }\n",
       "\n",
       "    .dataframe tbody tr th {\n",
       "        vertical-align: top;\n",
       "    }\n",
       "\n",
       "    .dataframe thead th {\n",
       "        text-align: right;\n",
       "    }\n",
       "</style>\n",
       "<table border=\"1\" class=\"dataframe\">\n",
       "  <thead>\n",
       "    <tr style=\"text-align: right;\">\n",
       "      <th></th>\n",
       "      <th>Male_purchase_count</th>\n",
       "      <th>Male_total_purchase_price</th>\n",
       "      <th>Male_avg_purchase_price</th>\n",
       "    </tr>\n",
       "  </thead>\n",
       "  <tbody>\n",
       "    <tr>\n",
       "      <th>0</th>\n",
       "      <td>652</td>\n",
       "      <td>1967.64</td>\n",
       "      <td>3.017853</td>\n",
       "    </tr>\n",
       "  </tbody>\n",
       "</table>\n",
       "</div>"
      ],
      "text/plain": [
       "   Male_purchase_count  Male_total_purchase_price  Male_avg_purchase_price\n",
       "0                  652                    1967.64                 3.017853"
      ]
     },
     "execution_count": 24,
     "metadata": {},
     "output_type": "execute_result"
    }
   ],
   "source": [
    "#Summary of Purchase Price for Males \n",
    "\n",
    "summary_df=pd.DataFrame()\n",
    "summary_df[\"Male_purchase_count\"]=[Male_purchase_count]\n",
    "summary_df[\"Male_total_purchase_price\"]=[Male_total_purchase_price]\n",
    "summary_df[\"Male_avg_purchase_price\"]=[Male_avg_purchase_price]\n",
    "summary_df"
   ]
  },
  {
   "cell_type": "code",
   "execution_count": 25,
   "metadata": {},
   "outputs": [],
   "source": [
    "#Average purchase price by Female \n",
    "\n",
    "#Create a column to show calculations \n",
    "columns=[\"Purchase ID\",\"SN\",\"Age\",\"Gender\",\"Item ID\",\"Item Name\",\"Price\"]\n",
    "\n",
    "#Create a new dataframe with \"Female PLayers\" with the columns \n",
    " \n",
    "Female_df=purchase_data.loc[purchase_data[\"Gender\"]==\"Female\", columns]\n",
    "Female_purchase_count=len(purchase_data[purchase_data[\"Gender\"]==\"Female\"])\n",
    "Female_total_purchase_price = sum(Female_df[\"Price\"])\n",
    "Female_avg_purchase_price=Female_total_purchase_price/Female_purchase_count"
   ]
  },
  {
   "cell_type": "code",
   "execution_count": 26,
   "metadata": {},
   "outputs": [
    {
     "data": {
      "text/html": [
       "<div>\n",
       "<style scoped>\n",
       "    .dataframe tbody tr th:only-of-type {\n",
       "        vertical-align: middle;\n",
       "    }\n",
       "\n",
       "    .dataframe tbody tr th {\n",
       "        vertical-align: top;\n",
       "    }\n",
       "\n",
       "    .dataframe thead th {\n",
       "        text-align: right;\n",
       "    }\n",
       "</style>\n",
       "<table border=\"1\" class=\"dataframe\">\n",
       "  <thead>\n",
       "    <tr style=\"text-align: right;\">\n",
       "      <th></th>\n",
       "      <th>Female_purchase_count</th>\n",
       "      <th>Female_total_purchase_price</th>\n",
       "      <th>Female_avg_purchase_price</th>\n",
       "    </tr>\n",
       "  </thead>\n",
       "  <tbody>\n",
       "    <tr>\n",
       "      <th>0</th>\n",
       "      <td>113</td>\n",
       "      <td>361.94</td>\n",
       "      <td>3.203009</td>\n",
       "    </tr>\n",
       "  </tbody>\n",
       "</table>\n",
       "</div>"
      ],
      "text/plain": [
       "   Female_purchase_count  Female_total_purchase_price  \\\n",
       "0                    113                       361.94   \n",
       "\n",
       "   Female_avg_purchase_price  \n",
       "0                   3.203009  "
      ]
     },
     "execution_count": 26,
     "metadata": {},
     "output_type": "execute_result"
    }
   ],
   "source": [
    "#Summary of Purchase Price for Malees \n",
    "\n",
    "summary_df=pd.DataFrame()\n",
    "summary_df[\"Female_purchase_count\"]=[Female_purchase_count]\n",
    "summary_df[\"Female_total_purchase_price\"]=[Female_total_purchase_price]\n",
    "summary_df[\"Female_avg_purchase_price\"]=[Female_avg_purchase_price]\n",
    "summary_df"
   ]
  },
  {
   "cell_type": "code",
   "execution_count": 27,
   "metadata": {},
   "outputs": [],
   "source": [
    "#Average purchase price by Male \n",
    "\n",
    "#Create a column to show calculations \n",
    "columns=[\"Purchase ID\",\"SN\",\"Age\",\"Gender\",\"Item ID\",\"Item Name\",\"Price\"]\n",
    "\n",
    "#Create a new dataframe with \"Male PLayers\" with the columns \n",
    " \n",
    "Other_df=purchase_data.loc[purchase_data[\"Gender\"]==\"Other/Non-Disclosed\", columns]\n",
    "Other_purchase_count=len(purchase_data[purchase_data[\"Gender\"]==\"Other / Non-Disclosed\"])\n",
    "Other_total_purchase_price = sum(Other_df[\"Price\"])\n",
    "Other_avg_purchase_price=Other_total_purchase_price+Other_purchase_count"
   ]
  },
  {
   "cell_type": "code",
   "execution_count": 28,
   "metadata": {},
   "outputs": [
    {
     "data": {
      "text/html": [
       "<div>\n",
       "<style scoped>\n",
       "    .dataframe tbody tr th:only-of-type {\n",
       "        vertical-align: middle;\n",
       "    }\n",
       "\n",
       "    .dataframe tbody tr th {\n",
       "        vertical-align: top;\n",
       "    }\n",
       "\n",
       "    .dataframe thead th {\n",
       "        text-align: right;\n",
       "    }\n",
       "</style>\n",
       "<table border=\"1\" class=\"dataframe\">\n",
       "  <thead>\n",
       "    <tr style=\"text-align: right;\">\n",
       "      <th></th>\n",
       "      <th>Other_purchase_count</th>\n",
       "      <th>Other_total_purchase_price</th>\n",
       "      <th>Other_avg_purchase_price</th>\n",
       "    </tr>\n",
       "  </thead>\n",
       "  <tbody>\n",
       "    <tr>\n",
       "      <th>0</th>\n",
       "      <td>15</td>\n",
       "      <td>0</td>\n",
       "      <td>15</td>\n",
       "    </tr>\n",
       "  </tbody>\n",
       "</table>\n",
       "</div>"
      ],
      "text/plain": [
       "   Other_purchase_count  Other_total_purchase_price  Other_avg_purchase_price\n",
       "0                    15                           0                        15"
      ]
     },
     "execution_count": 28,
     "metadata": {},
     "output_type": "execute_result"
    }
   ],
   "source": [
    "#Summary of Purchase Price for Males \n",
    "\n",
    "summary_df=pd.DataFrame()\n",
    "summary_df[\"Other_purchase_count\"]=[Other_purchase_count]\n",
    "summary_df[\"Other_total_purchase_price\"]=[Other_total_purchase_price]\n",
    "summary_df[\"Other_avg_purchase_price\"]=[Other_avg_purchase_price]\n",
    "summary_df"
   ]
  },
  {
   "cell_type": "markdown",
   "metadata": {},
   "source": [
    "# Age Demographics"
   ]
  },
  {
   "cell_type": "markdown",
   "metadata": {},
   "source": [
    "* Establish bins for ages\n",
    "\n",
    "\n",
    "* Categorize the existing players using the age bins. Hint: use pd.cut()\n",
    "\n",
    "\n",
    "* Calculate the numbers and percentages by age group\n",
    "\n",
    "\n",
    "* Create a summary data frame to hold the results\n",
    "\n",
    "\n",
    "* Optional: round the percentage column to two decimal points\n",
    "\n",
    "\n",
    "* Display Age Demographics Table\n"
   ]
  },
  {
   "cell_type": "code",
   "execution_count": 29,
   "metadata": {},
   "outputs": [
    {
     "name": "stdout",
     "output_type": "stream",
     "text": [
      "Min_age 7\n",
      "Max_age 45\n"
     ]
    }
   ],
   "source": [
    "#Create Min/Max for Age Data set- to find out what the min and max is in the spreadsheet\n",
    "Min_age=purchase_data[\"Age\"].min()\n",
    "print(\"Min_age\", Min_age)\n",
    "Max_age=purchase_data[\"Age\"].max()\n",
    "print(\"Max_age\", Max_age)"
   ]
  },
  {
   "cell_type": "code",
   "execution_count": 32,
   "metadata": {},
   "outputs": [
    {
     "data": {
      "text/plain": [
       "0    15-19\n",
       "1    35-39\n",
       "2    20-24\n",
       "3    20-24\n",
       "4    20-24\n",
       "5    20-24\n",
       "6    35-39\n",
       "7    15-19\n",
       "8    20-24\n",
       "9    30-34\n",
       "Name: Age, dtype: category\n",
       "Categories (8, object): ['<10' < '10-14' < '15-19' < '20-24' < '25-29' < '30-34' < '35-39' < '>=40']"
      ]
     },
     "execution_count": 32,
     "metadata": {},
     "output_type": "execute_result"
    }
   ],
   "source": [
    "#Create bins that will range from the \"min_age\" to \"max_age\"\n",
    "\n",
    "bins=[0,10,15,20,25,30,35,40,45]\n",
    "Age_group=[\"<10\", \"10-14\", \"15-19\", \"20-24\", \"25-29\", \"30-34\", \"35-39\", \">=40\"]\n",
    "\n",
    "#Cut purchase data and generate age group into the bins \n",
    "Age_df=pd.cut(purchase_data[\"Age\"], bins, labels= Age_group)\n",
    "Age_df.head(10)"
   ]
  },
  {
   "cell_type": "code",
   "execution_count": 33,
   "metadata": {},
   "outputs": [
    {
     "data": {
      "text/html": [
       "<div>\n",
       "<style scoped>\n",
       "    .dataframe tbody tr th:only-of-type {\n",
       "        vertical-align: middle;\n",
       "    }\n",
       "\n",
       "    .dataframe tbody tr th {\n",
       "        vertical-align: top;\n",
       "    }\n",
       "\n",
       "    .dataframe thead th {\n",
       "        text-align: right;\n",
       "    }\n",
       "</style>\n",
       "<table border=\"1\" class=\"dataframe\">\n",
       "  <thead>\n",
       "    <tr style=\"text-align: right;\">\n",
       "      <th></th>\n",
       "      <th>Purchase ID</th>\n",
       "      <th>SN</th>\n",
       "      <th>Age</th>\n",
       "      <th>Gender</th>\n",
       "      <th>Item ID</th>\n",
       "      <th>Item Name</th>\n",
       "      <th>Price</th>\n",
       "      <th>Age_range</th>\n",
       "    </tr>\n",
       "  </thead>\n",
       "  <tbody>\n",
       "    <tr>\n",
       "      <th>0</th>\n",
       "      <td>0</td>\n",
       "      <td>Lisim78</td>\n",
       "      <td>20</td>\n",
       "      <td>Male</td>\n",
       "      <td>108</td>\n",
       "      <td>Extraction, Quickblade Of Trembling Hands</td>\n",
       "      <td>3.53</td>\n",
       "      <td>15-19</td>\n",
       "    </tr>\n",
       "    <tr>\n",
       "      <th>1</th>\n",
       "      <td>1</td>\n",
       "      <td>Lisovynya38</td>\n",
       "      <td>40</td>\n",
       "      <td>Male</td>\n",
       "      <td>143</td>\n",
       "      <td>Frenzied Scimitar</td>\n",
       "      <td>1.56</td>\n",
       "      <td>35-39</td>\n",
       "    </tr>\n",
       "    <tr>\n",
       "      <th>2</th>\n",
       "      <td>2</td>\n",
       "      <td>Ithergue48</td>\n",
       "      <td>24</td>\n",
       "      <td>Male</td>\n",
       "      <td>92</td>\n",
       "      <td>Final Critic</td>\n",
       "      <td>4.88</td>\n",
       "      <td>20-24</td>\n",
       "    </tr>\n",
       "    <tr>\n",
       "      <th>3</th>\n",
       "      <td>3</td>\n",
       "      <td>Chamassasya86</td>\n",
       "      <td>24</td>\n",
       "      <td>Male</td>\n",
       "      <td>100</td>\n",
       "      <td>Blindscythe</td>\n",
       "      <td>3.27</td>\n",
       "      <td>20-24</td>\n",
       "    </tr>\n",
       "    <tr>\n",
       "      <th>4</th>\n",
       "      <td>4</td>\n",
       "      <td>Iskosia90</td>\n",
       "      <td>23</td>\n",
       "      <td>Male</td>\n",
       "      <td>131</td>\n",
       "      <td>Fury</td>\n",
       "      <td>1.44</td>\n",
       "      <td>20-24</td>\n",
       "    </tr>\n",
       "  </tbody>\n",
       "</table>\n",
       "</div>"
      ],
      "text/plain": [
       "   Purchase ID             SN  Age Gender  Item ID  \\\n",
       "0            0        Lisim78   20   Male      108   \n",
       "1            1    Lisovynya38   40   Male      143   \n",
       "2            2     Ithergue48   24   Male       92   \n",
       "3            3  Chamassasya86   24   Male      100   \n",
       "4            4      Iskosia90   23   Male      131   \n",
       "\n",
       "                                   Item Name  Price Age_range  \n",
       "0  Extraction, Quickblade Of Trembling Hands   3.53     15-19  \n",
       "1                          Frenzied Scimitar   1.56     35-39  \n",
       "2                               Final Critic   4.88     20-24  \n",
       "3                                Blindscythe   3.27     20-24  \n",
       "4                                       Fury   1.44     20-24  "
      ]
     },
     "execution_count": 33,
     "metadata": {},
     "output_type": "execute_result"
    }
   ],
   "source": [
    "#Place Data in new column within dataframe \n",
    "purchase_data[\"Age_range\"]= Age_df\n",
    "purchase_data.head()"
   ]
  },
  {
   "cell_type": "code",
   "execution_count": 35,
   "metadata": {},
   "outputs": [
    {
     "data": {
      "text/plain": [
       "Age_range  Gender               \n",
       "<10        Male                      25\n",
       "           Female                     7\n",
       "10-14      Male                      41\n",
       "           Female                    11\n",
       "           Other / Non-Disclosed      2\n",
       "15-19      Male                     167\n",
       "           Female                    28\n",
       "           Other / Non-Disclosed      5\n",
       "20-24      Male                     270\n",
       "           Female                    51\n",
       "           Other / Non-Disclosed      4\n",
       "25-29      Male                      70\n",
       "           Female                     7\n",
       "30-34      Male                      43\n",
       "           Female                     7\n",
       "           Other / Non-Disclosed      2\n",
       "35-39      Male                      29\n",
       "           Female                     2\n",
       "           Other / Non-Disclosed      2\n",
       ">=40       Male                       7\n",
       "Name: Gender, dtype: int64"
      ]
     },
     "execution_count": 35,
     "metadata": {},
     "output_type": "execute_result"
    }
   ],
   "source": [
    "#Grouping Male/Female, Others / Non-Disclosed\n",
    "\n",
    "Age_group_gen=purchase_data.groupby(\"Age_range\")[\"Gender\"].value_counts()\n",
    "Age_group_gen"
   ]
  },
  {
   "cell_type": "code",
   "execution_count": 38,
   "metadata": {},
   "outputs": [
    {
     "data": {
      "text/plain": [
       "Age_range\n",
       "<10       32\n",
       "10-14     54\n",
       "15-19    200\n",
       "20-24    325\n",
       "25-29     77\n",
       "30-34     52\n",
       "35-39     33\n",
       ">=40       7\n",
       "Name: Gender, dtype: int64"
      ]
     },
     "execution_count": 38,
     "metadata": {},
     "output_type": "execute_result"
    }
   ],
   "source": [
    "#Calculate numbers by Age group \n",
    "Age_group=purchase_data.groupby(\"Age_range\")[\"Gender\"].count()\n",
    "Age_group"
   ]
  },
  {
   "cell_type": "code",
   "execution_count": 39,
   "metadata": {},
   "outputs": [
    {
     "data": {
      "text/plain": [
       "20-24    41.67\n",
       "15-19    25.64\n",
       "25-29     9.87\n",
       "10-14     6.92\n",
       "30-34     6.67\n",
       "35-39     4.23\n",
       "<10       4.10\n",
       ">=40      0.90\n",
       "Name: Age_range, dtype: float64"
      ]
     },
     "execution_count": 39,
     "metadata": {},
     "output_type": "execute_result"
    }
   ],
   "source": [
    "#Place percentage by age group \n",
    "Age_pct=round(purchase_data[\"Age_range\"].value_counts()/780 *100, 2)\n",
    "Age_pct"
   ]
  },
  {
   "cell_type": "code",
   "execution_count": 42,
   "metadata": {},
   "outputs": [
    {
     "data": {
      "text/html": [
       "<div>\n",
       "<style scoped>\n",
       "    .dataframe tbody tr th:only-of-type {\n",
       "        vertical-align: middle;\n",
       "    }\n",
       "\n",
       "    .dataframe tbody tr th {\n",
       "        vertical-align: top;\n",
       "    }\n",
       "\n",
       "    .dataframe thead th {\n",
       "        text-align: right;\n",
       "    }\n",
       "</style>\n",
       "<table border=\"1\" class=\"dataframe\">\n",
       "  <thead>\n",
       "    <tr style=\"text-align: right;\">\n",
       "      <th></th>\n",
       "      <th>Age_group</th>\n",
       "      <th>Age_pct</th>\n",
       "    </tr>\n",
       "    <tr>\n",
       "      <th>Age_range</th>\n",
       "      <th></th>\n",
       "      <th></th>\n",
       "    </tr>\n",
       "  </thead>\n",
       "  <tbody>\n",
       "    <tr>\n",
       "      <th>&lt;10</th>\n",
       "      <td>32</td>\n",
       "      <td>4.10</td>\n",
       "    </tr>\n",
       "    <tr>\n",
       "      <th>10-14</th>\n",
       "      <td>54</td>\n",
       "      <td>6.92</td>\n",
       "    </tr>\n",
       "    <tr>\n",
       "      <th>15-19</th>\n",
       "      <td>200</td>\n",
       "      <td>25.64</td>\n",
       "    </tr>\n",
       "    <tr>\n",
       "      <th>20-24</th>\n",
       "      <td>325</td>\n",
       "      <td>41.67</td>\n",
       "    </tr>\n",
       "    <tr>\n",
       "      <th>25-29</th>\n",
       "      <td>77</td>\n",
       "      <td>9.87</td>\n",
       "    </tr>\n",
       "    <tr>\n",
       "      <th>30-34</th>\n",
       "      <td>52</td>\n",
       "      <td>6.67</td>\n",
       "    </tr>\n",
       "    <tr>\n",
       "      <th>35-39</th>\n",
       "      <td>33</td>\n",
       "      <td>4.23</td>\n",
       "    </tr>\n",
       "    <tr>\n",
       "      <th>&gt;=40</th>\n",
       "      <td>7</td>\n",
       "      <td>0.90</td>\n",
       "    </tr>\n",
       "  </tbody>\n",
       "</table>\n",
       "</div>"
      ],
      "text/plain": [
       "           Age_group  Age_pct\n",
       "Age_range                    \n",
       "<10               32     4.10\n",
       "10-14             54     6.92\n",
       "15-19            200    25.64\n",
       "20-24            325    41.67\n",
       "25-29             77     9.87\n",
       "30-34             52     6.67\n",
       "35-39             33     4.23\n",
       ">=40               7     0.90"
      ]
     },
     "execution_count": 42,
     "metadata": {},
     "output_type": "execute_result"
    }
   ],
   "source": [
    "#Summary of Age Demographics \n",
    "\n",
    "summary_df=pd.DataFrame()\n",
    "summary_df[\"Age_group\"] = Age_group\n",
    "summary_df[\"Age_pct\"] = Age_pct\n",
    "summary_df"
   ]
  },
  {
   "cell_type": "markdown",
   "metadata": {},
   "source": [
    "## Purchasing Analysis (Age)"
   ]
  },
  {
   "cell_type": "markdown",
   "metadata": {},
   "source": [
    "* Bin the purchase_data data frame by age\n",
    "\n",
    "\n",
    "* Run basic calculations to obtain purchase count, avg. purchase price, avg. purchase total per person etc. in the table below\n",
    "\n",
    "\n",
    "* Create a summary data frame to hold the results\n",
    "\n",
    "\n",
    "* Optional: give the displayed data cleaner formatting\n",
    "\n",
    "\n",
    "* Display the summary data frame"
   ]
  },
  {
   "cell_type": "code",
   "execution_count": 43,
   "metadata": {},
   "outputs": [
    {
     "data": {
      "text/plain": [
       "0    15-19\n",
       "1    35-39\n",
       "2    20-24\n",
       "3    20-24\n",
       "4    20-24\n",
       "5    20-24\n",
       "6    35-39\n",
       "7    15-19\n",
       "8    20-24\n",
       "9    30-34\n",
       "Name: Age, dtype: category\n",
       "Categories (8, object): ['<10' < '10-14' < '15-19' < '20-24' < '25-29' < '30-34' < '35-39' < '>=40']"
      ]
     },
     "execution_count": 43,
     "metadata": {},
     "output_type": "execute_result"
    }
   ],
   "source": [
    "#Create bins in which data will be held \n",
    "bins=[0,10,15,20,25,30,35,40,45]\n",
    "Age_group=[\"<10\", \"10-14\", \"15-19\", \"20-24\", \"25-29\", \"30-34\", \"35-39\", \">=40\"]\n",
    "\n",
    "#Cut purchase data and generate age group into the bins \n",
    "Age_df=pd.cut(purchase_data[\"Age\"], bins, labels= Age_group)\n",
    "Age_df.head(10)"
   ]
  },
  {
   "cell_type": "code",
   "execution_count": 44,
   "metadata": {},
   "outputs": [
    {
     "data": {
      "text/plain": [
       "Age_range\n",
       "<10       32\n",
       "10-14     54\n",
       "15-19    200\n",
       "20-24    325\n",
       "25-29     77\n",
       "30-34     52\n",
       "35-39     33\n",
       ">=40       7\n",
       "Name: Item ID, dtype: int64"
      ]
     },
     "execution_count": 44,
     "metadata": {},
     "output_type": "execute_result"
    }
   ],
   "source": [
    "#Calculate to obtain purchase count(COUNT)\n",
    "Pur_count=purchase_data.groupby(\"Age_range\")[\"Item ID\"].count()\n",
    "Pur_count"
   ]
  },
  {
   "cell_type": "code",
   "execution_count": 45,
   "metadata": {},
   "outputs": [
    {
     "data": {
      "text/plain": [
       "Age_range\n",
       "<10      106.250000\n",
       "10-14     91.407407\n",
       "15-19     90.805000\n",
       "20-24     89.806154\n",
       "25-29     93.792208\n",
       "30-34     89.461538\n",
       "35-39    104.090909\n",
       ">=40      82.285714\n",
       "Name: Item ID, dtype: float64"
      ]
     },
     "execution_count": 45,
     "metadata": {},
     "output_type": "execute_result"
    }
   ],
   "source": [
    "#Calculate average purchase price(MEAN)\n",
    "Avg_pur_price=purchase_data.groupby(\"Age_range\")[\"Item ID\"].mean()\n",
    "Avg_pur_price"
   ]
  },
  {
   "cell_type": "code",
   "execution_count": 46,
   "metadata": {},
   "outputs": [
    {
     "data": {
      "text/plain": [
       "Age_range\n",
       "<10       3400\n",
       "10-14     4936\n",
       "15-19    18161\n",
       "20-24    29187\n",
       "25-29     7222\n",
       "30-34     4652\n",
       "35-39     3435\n",
       ">=40       576\n",
       "Name: Item ID, dtype: int64"
      ]
     },
     "execution_count": 46,
     "metadata": {},
     "output_type": "execute_result"
    }
   ],
   "source": [
    "#Calculate to obtain purchase total per person \n",
    "Total_purchase_price=purchase_data.groupby(\"Age_range\")[\"Item ID\"].sum()\n",
    "Total_purchase_price"
   ]
  },
  {
   "cell_type": "code",
   "execution_count": 49,
   "metadata": {},
   "outputs": [
    {
     "data": {
      "text/plain": [
       "Age_range\n",
       "<10       5.902778\n",
       "10-14     8.569444\n",
       "15-19    31.529514\n",
       "20-24    50.671875\n",
       "25-29    12.538194\n",
       "30-34     8.076389\n",
       "35-39     5.963542\n",
       ">=40      1.000000\n",
       "Name: Item ID, dtype: float64"
      ]
     },
     "execution_count": 49,
     "metadata": {},
     "output_type": "execute_result"
    }
   ],
   "source": [
    "Avg_purchase_price= Total_purchase_price /576\n",
    "Avg_purchase_price"
   ]
  },
  {
   "cell_type": "code",
   "execution_count": 51,
   "metadata": {},
   "outputs": [
    {
     "data": {
      "text/html": [
       "<div>\n",
       "<style scoped>\n",
       "    .dataframe tbody tr th:only-of-type {\n",
       "        vertical-align: middle;\n",
       "    }\n",
       "\n",
       "    .dataframe tbody tr th {\n",
       "        vertical-align: top;\n",
       "    }\n",
       "\n",
       "    .dataframe thead th {\n",
       "        text-align: right;\n",
       "    }\n",
       "</style>\n",
       "<table border=\"1\" class=\"dataframe\">\n",
       "  <thead>\n",
       "    <tr style=\"text-align: right;\">\n",
       "      <th></th>\n",
       "      <th>Pur_count</th>\n",
       "      <th>Avg_pur_price</th>\n",
       "      <th>Total_purchase_price</th>\n",
       "      <th>Avg_purchase_price</th>\n",
       "    </tr>\n",
       "    <tr>\n",
       "      <th>Age_range</th>\n",
       "      <th></th>\n",
       "      <th></th>\n",
       "      <th></th>\n",
       "      <th></th>\n",
       "    </tr>\n",
       "  </thead>\n",
       "  <tbody>\n",
       "    <tr>\n",
       "      <th>&lt;10</th>\n",
       "      <td>32</td>\n",
       "      <td>106.250000</td>\n",
       "      <td>3400</td>\n",
       "      <td>5.902778</td>\n",
       "    </tr>\n",
       "    <tr>\n",
       "      <th>10-14</th>\n",
       "      <td>54</td>\n",
       "      <td>91.407407</td>\n",
       "      <td>4936</td>\n",
       "      <td>8.569444</td>\n",
       "    </tr>\n",
       "    <tr>\n",
       "      <th>15-19</th>\n",
       "      <td>200</td>\n",
       "      <td>90.805000</td>\n",
       "      <td>18161</td>\n",
       "      <td>31.529514</td>\n",
       "    </tr>\n",
       "    <tr>\n",
       "      <th>20-24</th>\n",
       "      <td>325</td>\n",
       "      <td>89.806154</td>\n",
       "      <td>29187</td>\n",
       "      <td>50.671875</td>\n",
       "    </tr>\n",
       "    <tr>\n",
       "      <th>25-29</th>\n",
       "      <td>77</td>\n",
       "      <td>93.792208</td>\n",
       "      <td>7222</td>\n",
       "      <td>12.538194</td>\n",
       "    </tr>\n",
       "    <tr>\n",
       "      <th>30-34</th>\n",
       "      <td>52</td>\n",
       "      <td>89.461538</td>\n",
       "      <td>4652</td>\n",
       "      <td>8.076389</td>\n",
       "    </tr>\n",
       "    <tr>\n",
       "      <th>35-39</th>\n",
       "      <td>33</td>\n",
       "      <td>104.090909</td>\n",
       "      <td>3435</td>\n",
       "      <td>5.963542</td>\n",
       "    </tr>\n",
       "    <tr>\n",
       "      <th>&gt;=40</th>\n",
       "      <td>7</td>\n",
       "      <td>82.285714</td>\n",
       "      <td>576</td>\n",
       "      <td>1.000000</td>\n",
       "    </tr>\n",
       "  </tbody>\n",
       "</table>\n",
       "</div>"
      ],
      "text/plain": [
       "           Pur_count  Avg_pur_price  Total_purchase_price  Avg_purchase_price\n",
       "Age_range                                                                    \n",
       "<10               32     106.250000                  3400            5.902778\n",
       "10-14             54      91.407407                  4936            8.569444\n",
       "15-19            200      90.805000                 18161           31.529514\n",
       "20-24            325      89.806154                 29187           50.671875\n",
       "25-29             77      93.792208                  7222           12.538194\n",
       "30-34             52      89.461538                  4652            8.076389\n",
       "35-39             33     104.090909                  3435            5.963542\n",
       ">=40               7      82.285714                   576            1.000000"
      ]
     },
     "execution_count": 51,
     "metadata": {},
     "output_type": "execute_result"
    }
   ],
   "source": [
    "#Display Summary of Avg purchase price \n",
    "price_summary_df=pd.DataFrame()\n",
    "price_summary_df[\"Pur_count\"]= Pur_count\n",
    "price_summary_df[\"Avg_pur_price\"]= Avg_pur_price\n",
    "price_summary_df[\"Total_purchase_price\"]= Total_purchase_price\n",
    "price_summary_df[\"Avg_purchase_price\"]= Avg_purchase_price\n",
    "price_summary_df"
   ]
  },
  {
   "cell_type": "markdown",
   "metadata": {},
   "source": [
    "## Top Spenders"
   ]
  },
  {
   "cell_type": "markdown",
   "metadata": {},
   "source": [
    "* Run basic calculations to obtain the results in the table below\n",
    "\n",
    "\n",
    "* Create a summary data frame to hold the results\n",
    "\n",
    "\n",
    "* Sort the total purchase value column in descending order\n",
    "\n",
    "\n",
    "* Optional: give the displayed data cleaner formatting\n",
    "\n",
    "\n",
    "* Display a preview of the summary data frame\n",
    "\n"
   ]
  },
  {
   "cell_type": "code",
   "execution_count": 54,
   "metadata": {},
   "outputs": [
    {
     "data": {
      "text/html": [
       "<div>\n",
       "<style scoped>\n",
       "    .dataframe tbody tr th:only-of-type {\n",
       "        vertical-align: middle;\n",
       "    }\n",
       "\n",
       "    .dataframe tbody tr th {\n",
       "        vertical-align: top;\n",
       "    }\n",
       "\n",
       "    .dataframe thead th {\n",
       "        text-align: right;\n",
       "    }\n",
       "</style>\n",
       "<table border=\"1\" class=\"dataframe\">\n",
       "  <thead>\n",
       "    <tr style=\"text-align: right;\">\n",
       "      <th></th>\n",
       "      <th>Pur_count</th>\n",
       "      <th>Avg_pur_price</th>\n",
       "      <th>Total_purchase_price</th>\n",
       "      <th>Avg_purchase_price</th>\n",
       "    </tr>\n",
       "    <tr>\n",
       "      <th>Age_range</th>\n",
       "      <th></th>\n",
       "      <th></th>\n",
       "      <th></th>\n",
       "      <th></th>\n",
       "    </tr>\n",
       "  </thead>\n",
       "  <tbody>\n",
       "    <tr>\n",
       "      <th>20-24</th>\n",
       "      <td>325</td>\n",
       "      <td>89.806154</td>\n",
       "      <td>29187</td>\n",
       "      <td>50.671875</td>\n",
       "    </tr>\n",
       "    <tr>\n",
       "      <th>15-19</th>\n",
       "      <td>200</td>\n",
       "      <td>90.805000</td>\n",
       "      <td>18161</td>\n",
       "      <td>31.529514</td>\n",
       "    </tr>\n",
       "    <tr>\n",
       "      <th>25-29</th>\n",
       "      <td>77</td>\n",
       "      <td>93.792208</td>\n",
       "      <td>7222</td>\n",
       "      <td>12.538194</td>\n",
       "    </tr>\n",
       "    <tr>\n",
       "      <th>10-14</th>\n",
       "      <td>54</td>\n",
       "      <td>91.407407</td>\n",
       "      <td>4936</td>\n",
       "      <td>8.569444</td>\n",
       "    </tr>\n",
       "    <tr>\n",
       "      <th>30-34</th>\n",
       "      <td>52</td>\n",
       "      <td>89.461538</td>\n",
       "      <td>4652</td>\n",
       "      <td>8.076389</td>\n",
       "    </tr>\n",
       "    <tr>\n",
       "      <th>35-39</th>\n",
       "      <td>33</td>\n",
       "      <td>104.090909</td>\n",
       "      <td>3435</td>\n",
       "      <td>5.963542</td>\n",
       "    </tr>\n",
       "    <tr>\n",
       "      <th>&lt;10</th>\n",
       "      <td>32</td>\n",
       "      <td>106.250000</td>\n",
       "      <td>3400</td>\n",
       "      <td>5.902778</td>\n",
       "    </tr>\n",
       "    <tr>\n",
       "      <th>&gt;=40</th>\n",
       "      <td>7</td>\n",
       "      <td>82.285714</td>\n",
       "      <td>576</td>\n",
       "      <td>1.000000</td>\n",
       "    </tr>\n",
       "  </tbody>\n",
       "</table>\n",
       "</div>"
      ],
      "text/plain": [
       "           Pur_count  Avg_pur_price  Total_purchase_price  Avg_purchase_price\n",
       "Age_range                                                                    \n",
       "20-24            325      89.806154                 29187           50.671875\n",
       "15-19            200      90.805000                 18161           31.529514\n",
       "25-29             77      93.792208                  7222           12.538194\n",
       "10-14             54      91.407407                  4936            8.569444\n",
       "30-34             52      89.461538                  4652            8.076389\n",
       "35-39             33     104.090909                  3435            5.963542\n",
       "<10               32     106.250000                  3400            5.902778\n",
       ">=40               7      82.285714                   576            1.000000"
      ]
     },
     "execution_count": 54,
     "metadata": {},
     "output_type": "execute_result"
    }
   ],
   "source": [
    "#Calculate the top spenders \n",
    "\n",
    "pd_data = price_summary_df.sort_values([\"Total_purchase_price\"], ascending=False)\n",
    "pd_data.head(10)"
   ]
  },
  {
   "cell_type": "markdown",
   "metadata": {},
   "source": [
    "## Most Popular Items"
   ]
  },
  {
   "cell_type": "markdown",
   "metadata": {},
   "source": [
    "* Retrieve the Item ID, Item Name, and Item Price columns\n",
    "\n",
    "\n",
    "* Group by Item ID and Item Name. Perform calculations to obtain purchase count, average item price, and total purchase value\n",
    "\n",
    "\n",
    "* Create a summary data frame to hold the results\n",
    "\n",
    "\n",
    "* Sort the purchase count column in descending order\n",
    "\n",
    "\n",
    "* Optional: give the displayed data cleaner formatting\n",
    "\n",
    "\n",
    "* Display a preview of the summary data frame\n",
    "\n"
   ]
  },
  {
   "cell_type": "code",
   "execution_count": 62,
   "metadata": {},
   "outputs": [
    {
     "data": {
      "text/plain": [
       "Item ID  Item Name                        \n",
       "0        Splinter                             4\n",
       "1        Crucifer                             4\n",
       "2        Verdict                              6\n",
       "3        Phantomlight                         6\n",
       "4        Bloodlord's Fetish                   5\n",
       "5        Putrid Fan                           4\n",
       "6        Rusty Skull                          2\n",
       "7        Thorn, Satchel of Dark Souls         7\n",
       "8        Purgatory, Gem of Regret             3\n",
       "9        Thorn, Conqueror of the Corrupted    4\n",
       "Name: Purchase ID, dtype: int64"
      ]
     },
     "execution_count": 62,
     "metadata": {},
     "output_type": "execute_result"
    }
   ],
   "source": [
    "#Purchase Count\n",
    "Purchase_count = purchase_data.groupby([\"Item ID\",\"Item Name\"]).count()[\"Purchase ID\"]\n",
    "Purchase_count.head(10)"
   ]
  },
  {
   "cell_type": "code",
   "execution_count": 64,
   "metadata": {},
   "outputs": [
    {
     "data": {
      "text/plain": [
       "Item ID  Item Name                        \n",
       "0        Splinter                             1.2800\n",
       "1        Crucifer                             2.9425\n",
       "2        Verdict                              2.4800\n",
       "3        Phantomlight                         2.4900\n",
       "4        Bloodlord's Fetish                   1.7000\n",
       "5        Putrid Fan                           4.0800\n",
       "6        Rusty Skull                          3.7000\n",
       "7        Thorn, Satchel of Dark Souls         1.3300\n",
       "8        Purgatory, Gem of Regret             3.9300\n",
       "9        Thorn, Conqueror of the Corrupted    2.7300\n",
       "Name: Price, dtype: float64"
      ]
     },
     "execution_count": 64,
     "metadata": {},
     "output_type": "execute_result"
    }
   ],
   "source": [
    "#Item Price \n",
    "Item_price = purchase_data.groupby([\"Item ID\",\"Item Name\"]).mean()[\"Price\"]\n",
    "Item_price.head(10)"
   ]
  },
  {
   "cell_type": "code",
   "execution_count": 67,
   "metadata": {},
   "outputs": [
    {
     "data": {
      "text/plain": [
       "Item ID  Item Name         \n",
       "0        Splinter              1.2800\n",
       "1        Crucifer              2.9425\n",
       "2        Verdict               2.4800\n",
       "3        Phantomlight          2.4900\n",
       "4        Bloodlord's Fetish    1.7000\n",
       "Name: Price, dtype: float64"
      ]
     },
     "execution_count": 67,
     "metadata": {},
     "output_type": "execute_result"
    }
   ],
   "source": [
    "#Total purchase count \n",
    "Total_purchase_value = purchase_data.groupby([\"Item ID\",\"Item Name\"]).mean()[\"Price\"]\n",
    "Total_purchase_value.head()"
   ]
  },
  {
   "cell_type": "code",
   "execution_count": 71,
   "metadata": {},
   "outputs": [
    {
     "data": {
      "text/html": [
       "<div>\n",
       "<style scoped>\n",
       "    .dataframe tbody tr th:only-of-type {\n",
       "        vertical-align: middle;\n",
       "    }\n",
       "\n",
       "    .dataframe tbody tr th {\n",
       "        vertical-align: top;\n",
       "    }\n",
       "\n",
       "    .dataframe thead th {\n",
       "        text-align: right;\n",
       "    }\n",
       "</style>\n",
       "<table border=\"1\" class=\"dataframe\">\n",
       "  <thead>\n",
       "    <tr style=\"text-align: right;\">\n",
       "      <th></th>\n",
       "      <th></th>\n",
       "      <th>Purchase_count</th>\n",
       "      <th>Item_price</th>\n",
       "      <th>Total_purchase_value</th>\n",
       "    </tr>\n",
       "    <tr>\n",
       "      <th>Item ID</th>\n",
       "      <th>Item Name</th>\n",
       "      <th></th>\n",
       "      <th></th>\n",
       "      <th></th>\n",
       "    </tr>\n",
       "  </thead>\n",
       "  <tbody>\n",
       "    <tr>\n",
       "      <th>0</th>\n",
       "      <th>Splinter</th>\n",
       "      <td>4</td>\n",
       "      <td>1.2800</td>\n",
       "      <td>1.2800</td>\n",
       "    </tr>\n",
       "    <tr>\n",
       "      <th>1</th>\n",
       "      <th>Crucifer</th>\n",
       "      <td>4</td>\n",
       "      <td>2.9425</td>\n",
       "      <td>2.9425</td>\n",
       "    </tr>\n",
       "    <tr>\n",
       "      <th>2</th>\n",
       "      <th>Verdict</th>\n",
       "      <td>6</td>\n",
       "      <td>2.4800</td>\n",
       "      <td>2.4800</td>\n",
       "    </tr>\n",
       "    <tr>\n",
       "      <th>3</th>\n",
       "      <th>Phantomlight</th>\n",
       "      <td>6</td>\n",
       "      <td>2.4900</td>\n",
       "      <td>2.4900</td>\n",
       "    </tr>\n",
       "    <tr>\n",
       "      <th>4</th>\n",
       "      <th>Bloodlord's Fetish</th>\n",
       "      <td>5</td>\n",
       "      <td>1.7000</td>\n",
       "      <td>1.7000</td>\n",
       "    </tr>\n",
       "    <tr>\n",
       "      <th>5</th>\n",
       "      <th>Putrid Fan</th>\n",
       "      <td>4</td>\n",
       "      <td>4.0800</td>\n",
       "      <td>4.0800</td>\n",
       "    </tr>\n",
       "    <tr>\n",
       "      <th>6</th>\n",
       "      <th>Rusty Skull</th>\n",
       "      <td>2</td>\n",
       "      <td>3.7000</td>\n",
       "      <td>3.7000</td>\n",
       "    </tr>\n",
       "    <tr>\n",
       "      <th>7</th>\n",
       "      <th>Thorn, Satchel of Dark Souls</th>\n",
       "      <td>7</td>\n",
       "      <td>1.3300</td>\n",
       "      <td>1.3300</td>\n",
       "    </tr>\n",
       "    <tr>\n",
       "      <th>8</th>\n",
       "      <th>Purgatory, Gem of Regret</th>\n",
       "      <td>3</td>\n",
       "      <td>3.9300</td>\n",
       "      <td>3.9300</td>\n",
       "    </tr>\n",
       "    <tr>\n",
       "      <th>9</th>\n",
       "      <th>Thorn, Conqueror of the Corrupted</th>\n",
       "      <td>4</td>\n",
       "      <td>2.7300</td>\n",
       "      <td>2.7300</td>\n",
       "    </tr>\n",
       "  </tbody>\n",
       "</table>\n",
       "</div>"
      ],
      "text/plain": [
       "                                           Purchase_count  Item_price  \\\n",
       "Item ID Item Name                                                       \n",
       "0       Splinter                                        4      1.2800   \n",
       "1       Crucifer                                        4      2.9425   \n",
       "2       Verdict                                         6      2.4800   \n",
       "3       Phantomlight                                    6      2.4900   \n",
       "4       Bloodlord's Fetish                              5      1.7000   \n",
       "5       Putrid Fan                                      4      4.0800   \n",
       "6       Rusty Skull                                     2      3.7000   \n",
       "7       Thorn, Satchel of Dark Souls                    7      1.3300   \n",
       "8       Purgatory, Gem of Regret                        3      3.9300   \n",
       "9       Thorn, Conqueror of the Corrupted               4      2.7300   \n",
       "\n",
       "                                           Total_purchase_value  \n",
       "Item ID Item Name                                                \n",
       "0       Splinter                                         1.2800  \n",
       "1       Crucifer                                         2.9425  \n",
       "2       Verdict                                          2.4800  \n",
       "3       Phantomlight                                     2.4900  \n",
       "4       Bloodlord's Fetish                               1.7000  \n",
       "5       Putrid Fan                                       4.0800  \n",
       "6       Rusty Skull                                      3.7000  \n",
       "7       Thorn, Satchel of Dark Souls                     1.3300  \n",
       "8       Purgatory, Gem of Regret                         3.9300  \n",
       "9       Thorn, Conqueror of the Corrupted                2.7300  "
      ]
     },
     "execution_count": 71,
     "metadata": {},
     "output_type": "execute_result"
    }
   ],
   "source": [
    "#Summary of Most Popular Items \n",
    "items_summary_df = pd.DataFrame()\n",
    "items_summary_df[\"Purchase_count\"] = Purchase_count\n",
    "items_summary_df[\"Item_price\"] = Item_price\n",
    "items_summary_df[\"Total_purchase_value\"] = Total_purchase_value\n",
    "\n",
    "items_summary_df.head(10)"
   ]
  },
  {
   "cell_type": "code",
   "execution_count": 72,
   "metadata": {},
   "outputs": [
    {
     "data": {
      "text/html": [
       "<div>\n",
       "<style scoped>\n",
       "    .dataframe tbody tr th:only-of-type {\n",
       "        vertical-align: middle;\n",
       "    }\n",
       "\n",
       "    .dataframe tbody tr th {\n",
       "        vertical-align: top;\n",
       "    }\n",
       "\n",
       "    .dataframe thead th {\n",
       "        text-align: right;\n",
       "    }\n",
       "</style>\n",
       "<table border=\"1\" class=\"dataframe\">\n",
       "  <thead>\n",
       "    <tr style=\"text-align: right;\">\n",
       "      <th></th>\n",
       "      <th></th>\n",
       "      <th>Purchase_count</th>\n",
       "      <th>Item_price</th>\n",
       "      <th>Total_purchase_value</th>\n",
       "    </tr>\n",
       "    <tr>\n",
       "      <th>Item ID</th>\n",
       "      <th>Item Name</th>\n",
       "      <th></th>\n",
       "      <th></th>\n",
       "      <th></th>\n",
       "    </tr>\n",
       "  </thead>\n",
       "  <tbody>\n",
       "    <tr>\n",
       "      <th>92</th>\n",
       "      <th>Final Critic</th>\n",
       "      <td>13</td>\n",
       "      <td>4.614615</td>\n",
       "      <td>4.614615</td>\n",
       "    </tr>\n",
       "    <tr>\n",
       "      <th>178</th>\n",
       "      <th>Oathbreaker, Last Hope of the Breaking Storm</th>\n",
       "      <td>12</td>\n",
       "      <td>4.230000</td>\n",
       "      <td>4.230000</td>\n",
       "    </tr>\n",
       "    <tr>\n",
       "      <th>145</th>\n",
       "      <th>Fiery Glass Crusader</th>\n",
       "      <td>9</td>\n",
       "      <td>4.580000</td>\n",
       "      <td>4.580000</td>\n",
       "    </tr>\n",
       "    <tr>\n",
       "      <th>132</th>\n",
       "      <th>Persuasion</th>\n",
       "      <td>9</td>\n",
       "      <td>3.221111</td>\n",
       "      <td>3.221111</td>\n",
       "    </tr>\n",
       "    <tr>\n",
       "      <th>108</th>\n",
       "      <th>Extraction, Quickblade Of Trembling Hands</th>\n",
       "      <td>9</td>\n",
       "      <td>3.530000</td>\n",
       "      <td>3.530000</td>\n",
       "    </tr>\n",
       "    <tr>\n",
       "      <th>82</th>\n",
       "      <th>Nirvana</th>\n",
       "      <td>9</td>\n",
       "      <td>4.900000</td>\n",
       "      <td>4.900000</td>\n",
       "    </tr>\n",
       "    <tr>\n",
       "      <th>75</th>\n",
       "      <th>Brutality Ivory Warmace</th>\n",
       "      <td>8</td>\n",
       "      <td>2.420000</td>\n",
       "      <td>2.420000</td>\n",
       "    </tr>\n",
       "    <tr>\n",
       "      <th>103</th>\n",
       "      <th>Singed Scalpel</th>\n",
       "      <td>8</td>\n",
       "      <td>4.350000</td>\n",
       "      <td>4.350000</td>\n",
       "    </tr>\n",
       "    <tr>\n",
       "      <th>34</th>\n",
       "      <th>Retribution Axe</th>\n",
       "      <td>8</td>\n",
       "      <td>2.220000</td>\n",
       "      <td>2.220000</td>\n",
       "    </tr>\n",
       "    <tr>\n",
       "      <th>37</th>\n",
       "      <th>Shadow Strike, Glory of Ending Hope</th>\n",
       "      <td>8</td>\n",
       "      <td>3.160000</td>\n",
       "      <td>3.160000</td>\n",
       "    </tr>\n",
       "  </tbody>\n",
       "</table>\n",
       "</div>"
      ],
      "text/plain": [
       "                                                      Purchase_count  \\\n",
       "Item ID Item Name                                                      \n",
       "92      Final Critic                                              13   \n",
       "178     Oathbreaker, Last Hope of the Breaking Storm              12   \n",
       "145     Fiery Glass Crusader                                       9   \n",
       "132     Persuasion                                                 9   \n",
       "108     Extraction, Quickblade Of Trembling Hands                  9   \n",
       "82      Nirvana                                                    9   \n",
       "75      Brutality Ivory Warmace                                    8   \n",
       "103     Singed Scalpel                                             8   \n",
       "34      Retribution Axe                                            8   \n",
       "37      Shadow Strike, Glory of Ending Hope                        8   \n",
       "\n",
       "                                                      Item_price  \\\n",
       "Item ID Item Name                                                  \n",
       "92      Final Critic                                    4.614615   \n",
       "178     Oathbreaker, Last Hope of the Breaking Storm    4.230000   \n",
       "145     Fiery Glass Crusader                            4.580000   \n",
       "132     Persuasion                                      3.221111   \n",
       "108     Extraction, Quickblade Of Trembling Hands       3.530000   \n",
       "82      Nirvana                                         4.900000   \n",
       "75      Brutality Ivory Warmace                         2.420000   \n",
       "103     Singed Scalpel                                  4.350000   \n",
       "34      Retribution Axe                                 2.220000   \n",
       "37      Shadow Strike, Glory of Ending Hope             3.160000   \n",
       "\n",
       "                                                      Total_purchase_value  \n",
       "Item ID Item Name                                                           \n",
       "92      Final Critic                                              4.614615  \n",
       "178     Oathbreaker, Last Hope of the Breaking Storm              4.230000  \n",
       "145     Fiery Glass Crusader                                      4.580000  \n",
       "132     Persuasion                                                3.221111  \n",
       "108     Extraction, Quickblade Of Trembling Hands                 3.530000  \n",
       "82      Nirvana                                                   4.900000  \n",
       "75      Brutality Ivory Warmace                                   2.420000  \n",
       "103     Singed Scalpel                                            4.350000  \n",
       "34      Retribution Axe                                           2.220000  \n",
       "37      Shadow Strike, Glory of Ending Hope                       3.160000  "
      ]
     },
     "execution_count": 72,
     "metadata": {},
     "output_type": "execute_result"
    }
   ],
   "source": [
    "#Sort by descending orders\n",
    "Sorted_pur_count_df = items_summary_df.sort_values([\"Purchase_count\"], ascending=False)\n",
    "Sorted_pur_count_df.head(10)"
   ]
  },
  {
   "cell_type": "markdown",
   "metadata": {},
   "source": [
    "## Most Profitable Items"
   ]
  },
  {
   "cell_type": "markdown",
   "metadata": {},
   "source": [
    "* Sort the above table by total purchase value in descending order\n",
    "\n",
    "\n",
    "* Optional: give the displayed data cleaner formatting\n",
    "\n",
    "\n",
    "* Display a preview of the data frame\n",
    "\n"
   ]
  },
  {
   "cell_type": "code",
   "execution_count": 78,
   "metadata": {
    "scrolled": true
   },
   "outputs": [
    {
     "data": {
      "text/html": [
       "<div>\n",
       "<style scoped>\n",
       "    .dataframe tbody tr th:only-of-type {\n",
       "        vertical-align: middle;\n",
       "    }\n",
       "\n",
       "    .dataframe tbody tr th {\n",
       "        vertical-align: top;\n",
       "    }\n",
       "\n",
       "    .dataframe thead th {\n",
       "        text-align: right;\n",
       "    }\n",
       "</style>\n",
       "<table border=\"1\" class=\"dataframe\">\n",
       "  <thead>\n",
       "    <tr style=\"text-align: right;\">\n",
       "      <th></th>\n",
       "      <th></th>\n",
       "      <th>Purchase_count</th>\n",
       "      <th>Item_price</th>\n",
       "      <th>Total_purchase_value</th>\n",
       "    </tr>\n",
       "    <tr>\n",
       "      <th>Item ID</th>\n",
       "      <th>Item Name</th>\n",
       "      <th></th>\n",
       "      <th></th>\n",
       "      <th></th>\n",
       "    </tr>\n",
       "  </thead>\n",
       "  <tbody>\n",
       "    <tr>\n",
       "      <th>63</th>\n",
       "      <th>Stormfury Mace</th>\n",
       "      <td>2</td>\n",
       "      <td>4.99</td>\n",
       "      <td>4.99</td>\n",
       "    </tr>\n",
       "    <tr>\n",
       "      <th>139</th>\n",
       "      <th>Mercy, Katana of Dismay</th>\n",
       "      <td>5</td>\n",
       "      <td>4.94</td>\n",
       "      <td>4.94</td>\n",
       "    </tr>\n",
       "    <tr>\n",
       "      <th>173</th>\n",
       "      <th>Stormfury Longsword</th>\n",
       "      <td>2</td>\n",
       "      <td>4.93</td>\n",
       "      <td>4.93</td>\n",
       "    </tr>\n",
       "    <tr>\n",
       "      <th>147</th>\n",
       "      <th>Hellreaver, Heirloom of Inception</th>\n",
       "      <td>3</td>\n",
       "      <td>4.93</td>\n",
       "      <td>4.93</td>\n",
       "    </tr>\n",
       "    <tr>\n",
       "      <th>128</th>\n",
       "      <th>Blazeguard, Reach of Eternity</th>\n",
       "      <td>5</td>\n",
       "      <td>4.91</td>\n",
       "      <td>4.91</td>\n",
       "    </tr>\n",
       "  </tbody>\n",
       "</table>\n",
       "</div>"
      ],
      "text/plain": [
       "                                           Purchase_count  Item_price  \\\n",
       "Item ID Item Name                                                       \n",
       "63      Stormfury Mace                                  2        4.99   \n",
       "139     Mercy, Katana of Dismay                         5        4.94   \n",
       "173     Stormfury Longsword                             2        4.93   \n",
       "147     Hellreaver, Heirloom of Inception               3        4.93   \n",
       "128     Blazeguard, Reach of Eternity                   5        4.91   \n",
       "\n",
       "                                           Total_purchase_value  \n",
       "Item ID Item Name                                                \n",
       "63      Stormfury Mace                                     4.99  \n",
       "139     Mercy, Katana of Dismay                            4.94  \n",
       "173     Stormfury Longsword                                4.93  \n",
       "147     Hellreaver, Heirloom of Inception                  4.93  \n",
       "128     Blazeguard, Reach of Eternity                      4.91  "
      ]
     },
     "execution_count": 78,
     "metadata": {},
     "output_type": "execute_result"
    }
   ],
   "source": [
    "#Sort by top five spenders\n",
    "Most_profitable_items = items_summary_df.sort_values(\"Total_purchase_value\", ascending=False)\n",
    "\n",
    "Most_profitable_items.head(5)"
   ]
  }
 ],
 "metadata": {
  "anaconda-cloud": {},
  "kernel_info": {
   "name": "python3"
  },
  "kernelspec": {
   "display_name": "Python 3",
   "language": "python",
   "name": "python3"
  },
  "language_info": {
   "codemirror_mode": {
    "name": "ipython",
    "version": 3
   },
   "file_extension": ".py",
   "mimetype": "text/x-python",
   "name": "python",
   "nbconvert_exporter": "python",
   "pygments_lexer": "ipython3",
   "version": "3.8.5"
  },
  "latex_envs": {
   "LaTeX_envs_menu_present": true,
   "autoclose": false,
   "autocomplete": true,
   "bibliofile": "biblio.bib",
   "cite_by": "apalike",
   "current_citInitial": 1,
   "eqLabelWithNumbers": true,
   "eqNumInitial": 1,
   "hotkeys": {
    "equation": "Ctrl-E",
    "itemize": "Ctrl-I"
   },
   "labels_anchors": false,
   "latex_user_defs": false,
   "report_style_numbering": false,
   "user_envs_cfg": false
  },
  "nteract": {
   "version": "0.2.0"
  }
 },
 "nbformat": 4,
 "nbformat_minor": 2
}
